{
 "cells": [
  {
   "cell_type": "markdown",
   "id": "2834bbc0",
   "metadata": {},
   "source": [
    "# does the mpg changes between 2k12 and 2k13 "
   ]
  },
  {
   "cell_type": "code",
   "execution_count": 1,
   "id": "2fc8c735",
   "metadata": {},
   "outputs": [],
   "source": [
    "# import packages\n",
    "import pandas as pd\n",
    "from scipy import stats"
   ]
  },
  {
   "cell_type": "markdown",
   "id": "959eade6",
   "metadata": {},
   "source": [
    "# import data"
   ]
  },
  {
   "cell_type": "code",
   "execution_count": 2,
   "id": "27a35a4b",
   "metadata": {},
   "outputs": [],
   "source": [
    "hybrid2=pd.read_excel('/Users/hlind/Downloads/hybrid2012-13.xlsx')"
   ]
  },
  {
   "cell_type": "code",
   "execution_count": 3,
   "id": "e937f27e",
   "metadata": {},
   "outputs": [
    {
     "data": {
      "text/html": [
       "<div>\n",
       "<style scoped>\n",
       "    .dataframe tbody tr th:only-of-type {\n",
       "        vertical-align: middle;\n",
       "    }\n",
       "\n",
       "    .dataframe tbody tr th {\n",
       "        vertical-align: top;\n",
       "    }\n",
       "\n",
       "    .dataframe thead th {\n",
       "        text-align: right;\n",
       "    }\n",
       "</style>\n",
       "<table border=\"1\" class=\"dataframe\">\n",
       "  <thead>\n",
       "    <tr style=\"text-align: right;\">\n",
       "      <th></th>\n",
       "      <th>vehicle</th>\n",
       "      <th>msrp2012</th>\n",
       "      <th>accelrate2012</th>\n",
       "      <th>mpg2012</th>\n",
       "      <th>mpgmpge2012</th>\n",
       "      <th>carclass2012</th>\n",
       "      <th>carclass_id2012</th>\n",
       "      <th>msrp2013</th>\n",
       "      <th>accelrate2013</th>\n",
       "      <th>mpg2013</th>\n",
       "      <th>mpgmpge2013</th>\n",
       "      <th>carclass2013</th>\n",
       "      <th>carclass_id2013</th>\n",
       "    </tr>\n",
       "  </thead>\n",
       "  <tbody>\n",
       "    <tr>\n",
       "      <th>0</th>\n",
       "      <td>ActiveHybrid 3</td>\n",
       "      <td>19006.62</td>\n",
       "      <td>9.35</td>\n",
       "      <td>50</td>\n",
       "      <td>50</td>\n",
       "      <td>C</td>\n",
       "      <td>1</td>\n",
       "      <td>19080</td>\n",
       "      <td>8.70</td>\n",
       "      <td>50</td>\n",
       "      <td>50</td>\n",
       "      <td>C</td>\n",
       "      <td>1</td>\n",
       "    </tr>\n",
       "    <tr>\n",
       "      <th>1</th>\n",
       "      <td>ActiveHybrid 5</td>\n",
       "      <td>32095.61</td>\n",
       "      <td>8.82</td>\n",
       "      <td>50</td>\n",
       "      <td>95</td>\n",
       "      <td>M</td>\n",
       "      <td>3</td>\n",
       "      <td>24995</td>\n",
       "      <td>12.66</td>\n",
       "      <td>45</td>\n",
       "      <td>45</td>\n",
       "      <td>C</td>\n",
       "      <td>1</td>\n",
       "    </tr>\n",
       "    <tr>\n",
       "      <th>2</th>\n",
       "      <td>Ampera</td>\n",
       "      <td>31739.55</td>\n",
       "      <td>11.11</td>\n",
       "      <td>37</td>\n",
       "      <td>98</td>\n",
       "      <td>C</td>\n",
       "      <td>1</td>\n",
       "      <td>24200</td>\n",
       "      <td>10.20</td>\n",
       "      <td>50</td>\n",
       "      <td>50</td>\n",
       "      <td>M</td>\n",
       "      <td>3</td>\n",
       "    </tr>\n",
       "    <tr>\n",
       "      <th>3</th>\n",
       "      <td>Camry LE</td>\n",
       "      <td>62180.23</td>\n",
       "      <td>16.67</td>\n",
       "      <td>26</td>\n",
       "      <td>26</td>\n",
       "      <td>M</td>\n",
       "      <td>3</td>\n",
       "      <td>18600</td>\n",
       "      <td>11.76</td>\n",
       "      <td>42</td>\n",
       "      <td>42</td>\n",
       "      <td>C</td>\n",
       "      <td>1</td>\n",
       "    </tr>\n",
       "    <tr>\n",
       "      <th>4</th>\n",
       "      <td>Chevrolet Volt</td>\n",
       "      <td>59126.14</td>\n",
       "      <td>16.95</td>\n",
       "      <td>31</td>\n",
       "      <td>31</td>\n",
       "      <td>M</td>\n",
       "      <td>3</td>\n",
       "      <td>69850</td>\n",
       "      <td>16.39</td>\n",
       "      <td>21</td>\n",
       "      <td>21</td>\n",
       "      <td>SUV</td>\n",
       "      <td>6</td>\n",
       "    </tr>\n",
       "  </tbody>\n",
       "</table>\n",
       "</div>"
      ],
      "text/plain": [
       "          vehicle  msrp2012  accelrate2012  mpg2012  mpgmpge2012 carclass2012  \\\n",
       "0  ActiveHybrid 3  19006.62           9.35       50           50            C   \n",
       "1  ActiveHybrid 5  32095.61           8.82       50           95            M   \n",
       "2          Ampera  31739.55          11.11       37           98            C   \n",
       "3        Camry LE  62180.23          16.67       26           26            M   \n",
       "4  Chevrolet Volt  59126.14          16.95       31           31            M   \n",
       "\n",
       "   carclass_id2012  msrp2013  accelrate2013  mpg2013  mpgmpge2013  \\\n",
       "0                1     19080           8.70       50           50   \n",
       "1                3     24995          12.66       45           45   \n",
       "2                1     24200          10.20       50           50   \n",
       "3                3     18600          11.76       42           42   \n",
       "4                3     69850          16.39       21           21   \n",
       "\n",
       "  carclass2013  carclass_id2013  \n",
       "0            C                1  \n",
       "1            C                1  \n",
       "2            M                3  \n",
       "3            C                1  \n",
       "4          SUV                6  "
      ]
     },
     "execution_count": 3,
     "metadata": {},
     "output_type": "execute_result"
    }
   ],
   "source": [
    "# view data\n",
    "hybrid2.head()"
   ]
  },
  {
   "cell_type": "markdown",
   "id": "88176032",
   "metadata": {},
   "source": [
    "# miles per gallon 2012 histogram"
   ]
  },
  {
   "cell_type": "code",
   "execution_count": 4,
   "id": "60fc12c2",
   "metadata": {},
   "outputs": [
    {
     "data": {
      "text/plain": [
       "<AxesSubplot: >"
      ]
     },
     "execution_count": 4,
     "metadata": {},
     "output_type": "execute_result"
    },
    {
     "data": {
      "image/png": "[encoded data removed]",
      "text/plain": [
       "<Figure size 640x480 with 1 Axes>"
      ]
     },
     "metadata": {},
     "output_type": "display_data"
    }
   ],
   "source": [
    "hybrid2['mpg2012'].hist()"
   ]
  },
  {
   "cell_type": "markdown",
   "id": "b857089b",
   "metadata": {},
   "source": [
    "# miles per gallon 2013 histogram"
   ]
  },
  {
   "cell_type": "code",
   "execution_count": 5,
   "id": "469866c7",
   "metadata": {},
   "outputs": [
    {
     "data": {
      "text/plain": [
       "<AxesSubplot: >"
      ]
     },
     "execution_count": 5,
     "metadata": {},
     "output_type": "execute_result"
    },
    {
     "data": {
      "image/png": "[encoded data removed]",
      "text/plain": [
       "<Figure size 640x480 with 1 Axes>"
      ]
     },
     "metadata": {},
     "output_type": "display_data"
    }
   ],
   "source": [
    "hybrid2['mpg2013'].hist()"
   ]
  },
  {
   "cell_type": "markdown",
   "id": "f43d6b16",
   "metadata": {},
   "source": [
    "# running dependent t-test"
   ]
  },
  {
   "cell_type": "code",
   "execution_count": 6,
   "id": "3161ef91",
   "metadata": {},
   "outputs": [
    {
     "data": {
      "text/plain": [
       "TtestResult(statistic=0.14466598084438315, pvalue=0.8873759030512349, df=12)"
      ]
     },
     "execution_count": 6,
     "metadata": {},
     "output_type": "execute_result"
    }
   ],
   "source": [
    "stats.ttest_rel(hybrid2['mpg2012'], hybrid2['mpg2013'])"
   ]
  },
  {
   "cell_type": "code",
   "execution_count": null,
   "id": "f4ce6a1c",
   "metadata": {},
   "outputs": [],
   "source": []
  }
 ],
 "metadata": {
  "kernelspec": {
   "display_name": "Python 3 (ipykernel)",
   "language": "python",
   "name": "python3"
  },
  "language_info": {
   "codemirror_mode": {
    "name": "ipython",
    "version": 3
   },
   "file_extension": ".py",
   "mimetype": "text/x-python",
   "name": "python",
   "nbconvert_exporter": "python",
   "pygments_lexer": "ipython3",
   "version": "3.10.6"
  }
 },
 "nbformat": 4,
 "nbformat_minor": 5
}
