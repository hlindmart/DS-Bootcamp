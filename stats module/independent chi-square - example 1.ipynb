{
 "cells": [
  {
   "cell_type": "markdown",
   "id": "c34615da",
   "metadata": {},
   "source": [
    "# to see if shade of lipstick and price category are related"
   ]
  },
  {
   "cell_type": "code",
   "execution_count": 1,
   "id": "295b70da",
   "metadata": {},
   "outputs": [],
   "source": [
    "# import packages\n",
    "import pandas as pd\n",
    "from scipy import stats"
   ]
  },
  {
   "cell_type": "markdown",
   "id": "2a7ccc21",
   "metadata": {},
   "source": [
    "# import data"
   ]
  },
  {
   "cell_type": "code",
   "execution_count": 2,
   "id": "276da144",
   "metadata": {},
   "outputs": [],
   "source": [
    "lips=pd.read_csv('/Users/hlind/Downloads/lead_lipstick.csv')"
   ]
  },
  {
   "cell_type": "code",
   "execution_count": 3,
   "id": "94671c82",
   "metadata": {},
   "outputs": [
    {
     "data": {
      "text/html": [
       "<div>\n",
       "<style scoped>\n",
       "    .dataframe tbody tr th:only-of-type {\n",
       "        vertical-align: middle;\n",
       "    }\n",
       "\n",
       "    .dataframe tbody tr th {\n",
       "        vertical-align: top;\n",
       "    }\n",
       "\n",
       "    .dataframe thead th {\n",
       "        text-align: right;\n",
       "    }\n",
       "</style>\n",
       "<table border=\"1\" class=\"dataframe\">\n",
       "  <thead>\n",
       "    <tr style=\"text-align: right;\">\n",
       "      <th></th>\n",
       "      <th>JRC_code</th>\n",
       "      <th>purchCntry</th>\n",
       "      <th>prodCntry</th>\n",
       "      <th>Pb</th>\n",
       "      <th>sdPb</th>\n",
       "      <th>shade</th>\n",
       "      <th>prodType</th>\n",
       "      <th>priceCatgry</th>\n",
       "    </tr>\n",
       "  </thead>\n",
       "  <tbody>\n",
       "    <tr>\n",
       "      <th>0</th>\n",
       "      <td>C135</td>\n",
       "      <td>NL</td>\n",
       "      <td>NL</td>\n",
       "      <td>3.75</td>\n",
       "      <td>0.24</td>\n",
       "      <td>Red</td>\n",
       "      <td>LP</td>\n",
       "      <td>2</td>\n",
       "    </tr>\n",
       "    <tr>\n",
       "      <th>1</th>\n",
       "      <td>C18</td>\n",
       "      <td>FI</td>\n",
       "      <td>FI</td>\n",
       "      <td>2.29</td>\n",
       "      <td>0.07</td>\n",
       "      <td>Red</td>\n",
       "      <td>LP</td>\n",
       "      <td>2</td>\n",
       "    </tr>\n",
       "    <tr>\n",
       "      <th>2</th>\n",
       "      <td>C20</td>\n",
       "      <td>FI</td>\n",
       "      <td>IT</td>\n",
       "      <td>1.27</td>\n",
       "      <td>0.06</td>\n",
       "      <td>Red</td>\n",
       "      <td>LP</td>\n",
       "      <td>2</td>\n",
       "    </tr>\n",
       "    <tr>\n",
       "      <th>3</th>\n",
       "      <td>C164</td>\n",
       "      <td>DE</td>\n",
       "      <td>FR</td>\n",
       "      <td>1.21</td>\n",
       "      <td>0.06</td>\n",
       "      <td>Red</td>\n",
       "      <td>LP</td>\n",
       "      <td>2</td>\n",
       "    </tr>\n",
       "    <tr>\n",
       "      <th>4</th>\n",
       "      <td>C71</td>\n",
       "      <td>MT</td>\n",
       "      <td>UK</td>\n",
       "      <td>0.85</td>\n",
       "      <td>0.04</td>\n",
       "      <td>Red</td>\n",
       "      <td>LP</td>\n",
       "      <td>2</td>\n",
       "    </tr>\n",
       "  </tbody>\n",
       "</table>\n",
       "</div>"
      ],
      "text/plain": [
       "  JRC_code purchCntry prodCntry    Pb  sdPb shade prodType  priceCatgry\n",
       "0     C135         NL        NL  3.75  0.24   Red       LP            2\n",
       "1      C18         FI        FI  2.29  0.07   Red       LP            2\n",
       "2      C20         FI        IT  1.27  0.06   Red       LP            2\n",
       "3     C164         DE        FR  1.21  0.06   Red       LP            2\n",
       "4      C71         MT        UK  0.85  0.04   Red       LP            2"
      ]
     },
     "execution_count": 3,
     "metadata": {},
     "output_type": "execute_result"
    }
   ],
   "source": [
    "lips.head()"
   ]
  },
  {
   "cell_type": "markdown",
   "id": "5087b277",
   "metadata": {},
   "source": [
    "# contingency table"
   ]
  },
  {
   "cell_type": "code",
   "execution_count": 4,
   "id": "ce95173a",
   "metadata": {},
   "outputs": [],
   "source": [
    "lips_cross=pd.crosstab(lips['shade'], lips['priceCatgry'])"
   ]
  },
  {
   "cell_type": "code",
   "execution_count": 5,
   "id": "1c427f25",
   "metadata": {},
   "outputs": [
    {
     "data": {
      "text/html": [
       "<div>\n",
       "<style scoped>\n",
       "    .dataframe tbody tr th:only-of-type {\n",
       "        vertical-align: middle;\n",
       "    }\n",
       "\n",
       "    .dataframe tbody tr th {\n",
       "        vertical-align: top;\n",
       "    }\n",
       "\n",
       "    .dataframe thead th {\n",
       "        text-align: right;\n",
       "    }\n",
       "</style>\n",
       "<table border=\"1\" class=\"dataframe\">\n",
       "  <thead>\n",
       "    <tr style=\"text-align: right;\">\n",
       "      <th>priceCatgry</th>\n",
       "      <th>1</th>\n",
       "      <th>2</th>\n",
       "      <th>3</th>\n",
       "    </tr>\n",
       "    <tr>\n",
       "      <th>shade</th>\n",
       "      <th></th>\n",
       "      <th></th>\n",
       "      <th></th>\n",
       "    </tr>\n",
       "  </thead>\n",
       "  <tbody>\n",
       "    <tr>\n",
       "      <th>Brown</th>\n",
       "      <td>20</td>\n",
       "      <td>30</td>\n",
       "      <td>10</td>\n",
       "    </tr>\n",
       "    <tr>\n",
       "      <th>Pink</th>\n",
       "      <td>20</td>\n",
       "      <td>49</td>\n",
       "      <td>12</td>\n",
       "    </tr>\n",
       "    <tr>\n",
       "      <th>Purple</th>\n",
       "      <td>8</td>\n",
       "      <td>23</td>\n",
       "      <td>6</td>\n",
       "    </tr>\n",
       "    <tr>\n",
       "      <th>Red</th>\n",
       "      <td>5</td>\n",
       "      <td>33</td>\n",
       "      <td>7</td>\n",
       "    </tr>\n",
       "  </tbody>\n",
       "</table>\n",
       "</div>"
      ],
      "text/plain": [
       "priceCatgry   1   2   3\n",
       "shade                  \n",
       "Brown        20  30  10\n",
       "Pink         20  49  12\n",
       "Purple        8  23   6\n",
       "Red           5  33   7"
      ]
     },
     "execution_count": 5,
     "metadata": {},
     "output_type": "execute_result"
    }
   ],
   "source": [
    "lips_cross"
   ]
  },
  {
   "cell_type": "markdown",
   "id": "e7195b01",
   "metadata": {},
   "source": [
    "# chi-square"
   ]
  },
  {
   "cell_type": "code",
   "execution_count": 6,
   "id": "9efe4689",
   "metadata": {},
   "outputs": [
    {
     "data": {
      "text/plain": [
       "Chi2ContingencyResult(statistic=7.860569553614045, pvalue=0.2484973879479863, dof=6, expected_freq=array([[14.26008969, 36.32286996,  9.41704036],\n",
       "       [19.25112108, 49.03587444, 12.71300448],\n",
       "       [ 8.79372197, 22.39910314,  5.80717489],\n",
       "       [10.69506726, 27.24215247,  7.06278027]]))"
      ]
     },
     "execution_count": 6,
     "metadata": {},
     "output_type": "execute_result"
    }
   ],
   "source": [
    "stats.chi2_contingency(lips_cross)"
   ]
  },
  {
   "cell_type": "code",
   "execution_count": 7,
   "id": "919c6e7f",
   "metadata": {},
   "outputs": [],
   "source": [
    "# array values are >5"
   ]
  },
  {
   "cell_type": "code",
   "execution_count": null,
   "id": "68d001dc",
   "metadata": {},
   "outputs": [],
   "source": []
  }
 ],
 "metadata": {
  "kernelspec": {
   "display_name": "Python 3 (ipykernel)",
   "language": "python",
   "name": "python3"
  },
  "language_info": {
   "codemirror_mode": {
    "name": "ipython",
    "version": 3
   },
   "file_extension": ".py",
   "mimetype": "text/x-python",
   "name": "python",
   "nbconvert_exporter": "python",
   "pygments_lexer": "ipython3",
   "version": "3.10.6"
  }
 },
 "nbformat": 4,
 "nbformat_minor": 5
}
