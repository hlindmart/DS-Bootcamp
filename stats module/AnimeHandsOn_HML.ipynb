{
 "cells": [
  {
   "cell_type": "code",
   "execution_count": 1,
   "id": "aabcdf24",
   "metadata": {},
   "outputs": [],
   "source": [
    "# importing packages\n",
    "import pandas as pd\n",
    "import seaborn as sns\n",
    "from scipy.stats import norm\n",
    "from scipy.stats import ttest_ind\n",
    "from scipy import stats\n",
    "import matplotlib.pyplot as plt\n",
    "import numpy as np"
   ]
  },
  {
   "cell_type": "code",
   "execution_count": 2,
   "id": "763d72f6",
   "metadata": {},
   "outputs": [],
   "source": [
    "# importing dataset\n",
    "anime=pd.read_csv('/Users/hlind/Downloads/anime.csv')"
   ]
  },
  {
   "cell_type": "code",
   "execution_count": 3,
   "id": "685d71e7",
   "metadata": {},
   "outputs": [],
   "source": [
    "# viewing data"
   ]
  },
  {
   "cell_type": "code",
   "execution_count": 4,
   "id": "6fc79287",
   "metadata": {},
   "outputs": [
    {
     "data": {
      "text/html": [
       "<div>\n",
       "<style scoped>\n",
       "    .dataframe tbody tr th:only-of-type {\n",
       "        vertical-align: middle;\n",
       "    }\n",
       "\n",
       "    .dataframe tbody tr th {\n",
       "        vertical-align: top;\n",
       "    }\n",
       "\n",
       "    .dataframe thead th {\n",
       "        text-align: right;\n",
       "    }\n",
       "</style>\n",
       "<table border=\"1\" class=\"dataframe\">\n",
       "  <thead>\n",
       "    <tr style=\"text-align: right;\">\n",
       "      <th></th>\n",
       "      <th>anime_id</th>\n",
       "      <th>title</th>\n",
       "      <th>title_english</th>\n",
       "      <th>title_japanese</th>\n",
       "      <th>title_synonyms</th>\n",
       "      <th>image_url</th>\n",
       "      <th>type</th>\n",
       "      <th>source</th>\n",
       "      <th>episodes</th>\n",
       "      <th>status</th>\n",
       "      <th>...</th>\n",
       "      <th>broadcast</th>\n",
       "      <th>related</th>\n",
       "      <th>producer</th>\n",
       "      <th>licensor</th>\n",
       "      <th>studio</th>\n",
       "      <th>genre</th>\n",
       "      <th>opening_theme</th>\n",
       "      <th>ending_theme</th>\n",
       "      <th>duration_min</th>\n",
       "      <th>aired_from_year</th>\n",
       "    </tr>\n",
       "  </thead>\n",
       "  <tbody>\n",
       "    <tr>\n",
       "      <th>0</th>\n",
       "      <td>11013</td>\n",
       "      <td>Inu x Boku SS</td>\n",
       "      <td>Inu X Boku Secret Service</td>\n",
       "      <td>妖狐×僕SS</td>\n",
       "      <td>Youko x Boku SS</td>\n",
       "      <td>https://myanimelist.cdn-dena.com/images/anime/...</td>\n",
       "      <td>TV</td>\n",
       "      <td>Manga</td>\n",
       "      <td>12</td>\n",
       "      <td>Finished Airing</td>\n",
       "      <td>...</td>\n",
       "      <td>Fridays at Unknown</td>\n",
       "      <td>{'Adaptation': [{'mal_id': 17207, 'type': 'man...</td>\n",
       "      <td>Aniplex, Square Enix, Mainichi Broadcasting Sy...</td>\n",
       "      <td>Sentai Filmworks</td>\n",
       "      <td>David Production</td>\n",
       "      <td>Comedy, Supernatural, Romance, Shounen</td>\n",
       "      <td>['\"Nirvana\" by MUCC']</td>\n",
       "      <td>['#1: \"Nirvana\" by MUCC (eps 1, 11-12)', '#2: ...</td>\n",
       "      <td>24.0</td>\n",
       "      <td>2012</td>\n",
       "    </tr>\n",
       "    <tr>\n",
       "      <th>1</th>\n",
       "      <td>2104</td>\n",
       "      <td>Seto no Hanayome</td>\n",
       "      <td>My Bride is a Mermaid</td>\n",
       "      <td>瀬戸の花嫁</td>\n",
       "      <td>The Inland Sea Bride</td>\n",
       "      <td>https://myanimelist.cdn-dena.com/images/anime/...</td>\n",
       "      <td>TV</td>\n",
       "      <td>Manga</td>\n",
       "      <td>26</td>\n",
       "      <td>Finished Airing</td>\n",
       "      <td>...</td>\n",
       "      <td>Unknown</td>\n",
       "      <td>{'Adaptation': [{'mal_id': 759, 'type': 'manga...</td>\n",
       "      <td>TV Tokyo, AIC, Square Enix, Sotsu</td>\n",
       "      <td>Funimation</td>\n",
       "      <td>Gonzo</td>\n",
       "      <td>Comedy, Parody, Romance, School, Shounen</td>\n",
       "      <td>['\"Romantic summer\" by SUN&amp;LUNAR']</td>\n",
       "      <td>['#1: \"Ashita e no Hikari (明日への光)\" by Asuka Hi...</td>\n",
       "      <td>24.0</td>\n",
       "      <td>2007</td>\n",
       "    </tr>\n",
       "    <tr>\n",
       "      <th>2</th>\n",
       "      <td>5262</td>\n",
       "      <td>Shugo Chara!! Doki</td>\n",
       "      <td>Shugo Chara!! Doki</td>\n",
       "      <td>しゅごキャラ！！どきっ</td>\n",
       "      <td>Shugo Chara Ninenme, Shugo Chara! Second Year</td>\n",
       "      <td>https://myanimelist.cdn-dena.com/images/anime/...</td>\n",
       "      <td>TV</td>\n",
       "      <td>Manga</td>\n",
       "      <td>51</td>\n",
       "      <td>Finished Airing</td>\n",
       "      <td>...</td>\n",
       "      <td>Unknown</td>\n",
       "      <td>{'Adaptation': [{'mal_id': 101, 'type': 'manga...</td>\n",
       "      <td>TV Tokyo, Sotsu</td>\n",
       "      <td>NaN</td>\n",
       "      <td>Satelight</td>\n",
       "      <td>Comedy, Magic, School, Shoujo</td>\n",
       "      <td>['#1: \"Minna no Tamago (みんなのたまご)\" by Shugo Cha...</td>\n",
       "      <td>['#1: \"Rottara Rottara (ロッタラ ロッタラ)\" by Buono! ...</td>\n",
       "      <td>24.0</td>\n",
       "      <td>2008</td>\n",
       "    </tr>\n",
       "    <tr>\n",
       "      <th>3</th>\n",
       "      <td>721</td>\n",
       "      <td>Princess Tutu</td>\n",
       "      <td>Princess Tutu</td>\n",
       "      <td>プリンセスチュチュ</td>\n",
       "      <td>NaN</td>\n",
       "      <td>https://myanimelist.cdn-dena.com/images/anime/...</td>\n",
       "      <td>TV</td>\n",
       "      <td>Original</td>\n",
       "      <td>38</td>\n",
       "      <td>Finished Airing</td>\n",
       "      <td>...</td>\n",
       "      <td>Fridays at Unknown</td>\n",
       "      <td>{'Adaptation': [{'mal_id': 1581, 'type': 'mang...</td>\n",
       "      <td>Memory-Tech, GANSIS, Marvelous AQL</td>\n",
       "      <td>ADV Films</td>\n",
       "      <td>Hal Film Maker</td>\n",
       "      <td>Comedy, Drama, Magic, Romance, Fantasy</td>\n",
       "      <td>['\"Morning Grace\" by Ritsuko Okazaki']</td>\n",
       "      <td>['\"Watashi No Ai Wa Chiisaikeredo\" by Ritsuko ...</td>\n",
       "      <td>16.0</td>\n",
       "      <td>2002</td>\n",
       "    </tr>\n",
       "    <tr>\n",
       "      <th>4</th>\n",
       "      <td>12365</td>\n",
       "      <td>Bakuman. 3rd Season</td>\n",
       "      <td>Bakuman.</td>\n",
       "      <td>バクマン。</td>\n",
       "      <td>Bakuman Season 3</td>\n",
       "      <td>https://myanimelist.cdn-dena.com/images/anime/...</td>\n",
       "      <td>TV</td>\n",
       "      <td>Manga</td>\n",
       "      <td>25</td>\n",
       "      <td>Finished Airing</td>\n",
       "      <td>...</td>\n",
       "      <td>Unknown</td>\n",
       "      <td>{'Adaptation': [{'mal_id': 9711, 'type': 'mang...</td>\n",
       "      <td>NHK, Shueisha</td>\n",
       "      <td>NaN</td>\n",
       "      <td>J.C.Staff</td>\n",
       "      <td>Comedy, Drama, Romance, Shounen</td>\n",
       "      <td>['#1: \"Moshimo no Hanashi (もしもの話)\" by nano.RIP...</td>\n",
       "      <td>['#1: \"Pride on Everyday\" by Sphere (eps 1-13)...</td>\n",
       "      <td>24.0</td>\n",
       "      <td>2012</td>\n",
       "    </tr>\n",
       "  </tbody>\n",
       "</table>\n",
       "<p>5 rows × 33 columns</p>\n",
       "</div>"
      ],
      "text/plain": [
       "   anime_id                title              title_english title_japanese  \\\n",
       "0     11013        Inu x Boku SS  Inu X Boku Secret Service         妖狐×僕SS   \n",
       "1      2104     Seto no Hanayome      My Bride is a Mermaid          瀬戸の花嫁   \n",
       "2      5262   Shugo Chara!! Doki         Shugo Chara!! Doki    しゅごキャラ！！どきっ   \n",
       "3       721        Princess Tutu              Princess Tutu      プリンセスチュチュ   \n",
       "4     12365  Bakuman. 3rd Season                   Bakuman.          バクマン。   \n",
       "\n",
       "                                  title_synonyms  \\\n",
       "0                                Youko x Boku SS   \n",
       "1                           The Inland Sea Bride   \n",
       "2  Shugo Chara Ninenme, Shugo Chara! Second Year   \n",
       "3                                            NaN   \n",
       "4                               Bakuman Season 3   \n",
       "\n",
       "                                           image_url type    source  episodes  \\\n",
       "0  https://myanimelist.cdn-dena.com/images/anime/...   TV     Manga        12   \n",
       "1  https://myanimelist.cdn-dena.com/images/anime/...   TV     Manga        26   \n",
       "2  https://myanimelist.cdn-dena.com/images/anime/...   TV     Manga        51   \n",
       "3  https://myanimelist.cdn-dena.com/images/anime/...   TV  Original        38   \n",
       "4  https://myanimelist.cdn-dena.com/images/anime/...   TV     Manga        25   \n",
       "\n",
       "            status  ...           broadcast  \\\n",
       "0  Finished Airing  ...  Fridays at Unknown   \n",
       "1  Finished Airing  ...             Unknown   \n",
       "2  Finished Airing  ...             Unknown   \n",
       "3  Finished Airing  ...  Fridays at Unknown   \n",
       "4  Finished Airing  ...             Unknown   \n",
       "\n",
       "                                             related  \\\n",
       "0  {'Adaptation': [{'mal_id': 17207, 'type': 'man...   \n",
       "1  {'Adaptation': [{'mal_id': 759, 'type': 'manga...   \n",
       "2  {'Adaptation': [{'mal_id': 101, 'type': 'manga...   \n",
       "3  {'Adaptation': [{'mal_id': 1581, 'type': 'mang...   \n",
       "4  {'Adaptation': [{'mal_id': 9711, 'type': 'mang...   \n",
       "\n",
       "                                            producer          licensor  \\\n",
       "0  Aniplex, Square Enix, Mainichi Broadcasting Sy...  Sentai Filmworks   \n",
       "1                  TV Tokyo, AIC, Square Enix, Sotsu        Funimation   \n",
       "2                                    TV Tokyo, Sotsu               NaN   \n",
       "3                 Memory-Tech, GANSIS, Marvelous AQL         ADV Films   \n",
       "4                                      NHK, Shueisha               NaN   \n",
       "\n",
       "             studio                                     genre  \\\n",
       "0  David Production    Comedy, Supernatural, Romance, Shounen   \n",
       "1             Gonzo  Comedy, Parody, Romance, School, Shounen   \n",
       "2         Satelight             Comedy, Magic, School, Shoujo   \n",
       "3    Hal Film Maker    Comedy, Drama, Magic, Romance, Fantasy   \n",
       "4         J.C.Staff           Comedy, Drama, Romance, Shounen   \n",
       "\n",
       "                                       opening_theme  \\\n",
       "0                              ['\"Nirvana\" by MUCC']   \n",
       "1                 ['\"Romantic summer\" by SUN&LUNAR']   \n",
       "2  ['#1: \"Minna no Tamago (みんなのたまご)\" by Shugo Cha...   \n",
       "3             ['\"Morning Grace\" by Ritsuko Okazaki']   \n",
       "4  ['#1: \"Moshimo no Hanashi (もしもの話)\" by nano.RIP...   \n",
       "\n",
       "                                        ending_theme  duration_min  \\\n",
       "0  ['#1: \"Nirvana\" by MUCC (eps 1, 11-12)', '#2: ...          24.0   \n",
       "1  ['#1: \"Ashita e no Hikari (明日への光)\" by Asuka Hi...          24.0   \n",
       "2  ['#1: \"Rottara Rottara (ロッタラ ロッタラ)\" by Buono! ...          24.0   \n",
       "3  ['\"Watashi No Ai Wa Chiisaikeredo\" by Ritsuko ...          16.0   \n",
       "4  ['#1: \"Pride on Everyday\" by Sphere (eps 1-13)...          24.0   \n",
       "\n",
       "   aired_from_year  \n",
       "0             2012  \n",
       "1             2007  \n",
       "2             2008  \n",
       "3             2002  \n",
       "4             2012  \n",
       "\n",
       "[5 rows x 33 columns]"
      ]
     },
     "execution_count": 4,
     "metadata": {},
     "output_type": "execute_result"
    }
   ],
   "source": [
    "anime.head()"
   ]
  },
  {
   "cell_type": "markdown",
   "id": "a9090aa5",
   "metadata": {},
   "source": [
    "# Is a Rating Score of 6.2 different from the Mean in this dataset?"
   ]
  },
  {
   "cell_type": "code",
   "execution_count": 5,
   "id": "375af124",
   "metadata": {},
   "outputs": [
    {
     "data": {
      "text/plain": [
       "<AxesSubplot: >"
      ]
     },
     "execution_count": 5,
     "metadata": {},
     "output_type": "execute_result"
    },
    {
     "data": {
      "image/png": "[encoded data removed]",
      "text/plain": [
       "<Figure size 640x480 with 1 Axes>"
      ]
     },
     "metadata": {},
     "output_type": "display_data"
    }
   ],
   "source": [
    "# checking normality - histogram\n",
    "anime.score.hist()"
   ]
  },
  {
   "cell_type": "code",
   "execution_count": 6,
   "id": "d7a8e3c9",
   "metadata": {},
   "outputs": [
    {
     "data": {
      "text/plain": [
       "6.848998200359928"
      ]
     },
     "execution_count": 6,
     "metadata": {},
     "output_type": "execute_result"
    }
   ],
   "source": [
    "# checking the mean - score variable\n",
    "anime.score.mean()"
   ]
  },
  {
   "cell_type": "code",
   "execution_count": 7,
   "id": "16efde17",
   "metadata": {},
   "outputs": [],
   "source": [
    "# yes, rating score of 6.2 is different from the mean in this dataset"
   ]
  },
  {
   "cell_type": "markdown",
   "id": "486f5dda",
   "metadata": {},
   "source": [
    "# Does Anime that is still airing differ in popularity from Anime that is no longer airing?"
   ]
  },
  {
   "cell_type": "code",
   "execution_count": 8,
   "id": "237568f4",
   "metadata": {},
   "outputs": [
    {
     "data": {
      "text/plain": [
       "<AxesSubplot: >"
      ]
     },
     "execution_count": 8,
     "metadata": {},
     "output_type": "execute_result"
    },
    {
     "data": {
      "image/png": "[encoded data removed]",
      "text/plain": [
       "<Figure size 640x480 with 1 Axes>"
      ]
     },
     "metadata": {},
     "output_type": "display_data"
    }
   ],
   "source": [
    "# checking normality - histogram\n",
    "anime.popularity[anime.status=='Finished Airing'].hist()"
   ]
  },
  {
   "cell_type": "code",
   "execution_count": 10,
   "id": "61517695",
   "metadata": {},
   "outputs": [],
   "source": [
    "# anime shows lose popularity once they finish airing"
   ]
  },
  {
   "cell_type": "code",
   "execution_count": 11,
   "id": "2a2a484d",
   "metadata": {},
   "outputs": [
    {
     "data": {
      "text/plain": [
       "<AxesSubplot: >"
      ]
     },
     "execution_count": 11,
     "metadata": {},
     "output_type": "execute_result"
    },
    {
     "data": {
      "image/png": "[encoded data removed]",
      "text/plain": [
       "<Figure size 640x480 with 1 Axes>"
      ]
     },
     "metadata": {},
     "output_type": "display_data"
    }
   ],
   "source": [
    "# histogram for currently airing shows\n",
    "anime.popularity[anime.status=='Currently Airing'].hist()"
   ]
  },
  {
   "cell_type": "code",
   "execution_count": 12,
   "id": "cc598ff5",
   "metadata": {},
   "outputs": [],
   "source": [
    "# popularity varies in currently airing shows"
   ]
  },
  {
   "cell_type": "code",
   "execution_count": 13,
   "id": "450b3987",
   "metadata": {},
   "outputs": [
    {
     "data": {
      "text/plain": [
       "Ttest_indResult(statistic=6.489071311277514, pvalue=9.256789141747445e-11)"
      ]
     },
     "execution_count": 13,
     "metadata": {},
     "output_type": "execute_result"
    }
   ],
   "source": [
    "# ttest for comnparison - independent\n",
    "ttest_ind(anime.popularity[anime.status=='Currently Airing'], anime.popularity[anime.status=='Finished Airing'])"
   ]
  },
  {
   "cell_type": "code",
   "execution_count": 14,
   "id": "1afcb5ea",
   "metadata": {},
   "outputs": [
    {
     "data": {
      "text/plain": [
       "6108.131147540984"
      ]
     },
     "execution_count": 14,
     "metadata": {},
     "output_type": "execute_result"
    }
   ],
   "source": [
    "# checking the means\n",
    "anime.popularity[anime.status=='Currently Airing'].mean()"
   ]
  },
  {
   "cell_type": "code",
   "execution_count": 15,
   "id": "a9c10aba",
   "metadata": {},
   "outputs": [
    {
     "data": {
      "text/plain": [
       "4433.558057054742"
      ]
     },
     "execution_count": 15,
     "metadata": {},
     "output_type": "execute_result"
    }
   ],
   "source": [
    "anime.popularity[anime.status=='Finished Airing'].mean()"
   ]
  },
  {
   "cell_type": "code",
   "execution_count": 16,
   "id": "1107f141",
   "metadata": {},
   "outputs": [],
   "source": [
    "# yes, there's a difference between shows that are currently on air v. finished ones with current shows being more popular"
   ]
  },
  {
   "cell_type": "markdown",
   "id": "c6b0e1ce",
   "metadata": {},
   "source": [
    "# Does the source of the Anime influence the type of Anime?"
   ]
  },
  {
   "cell_type": "code",
   "execution_count": 22,
   "id": "3d194b59",
   "metadata": {},
   "outputs": [],
   "source": [
    "# recoding to have four levels\n",
    "animeRecode={'Manga':'Manga', 'Book':'Book', 'Light novel':'Book', '4-koma manga':'Manga', 'Novel':'Book', 'Visual novel':'Book', 'Game':'Game', 'Card game':'Game', 'Web manga':'Manga', 'Music':'Listening', 'Digital manga':'Manga', 'Picture book':'Book', 'Radio':'Listening'}"
   ]
  },
  {
   "cell_type": "code",
   "execution_count": 23,
   "id": "78677801",
   "metadata": {},
   "outputs": [],
   "source": [
    "# replacing with new data\n",
    "anime2=anime.replace({'source':animeRecode})"
   ]
  },
  {
   "cell_type": "code",
   "execution_count": 24,
   "id": "5e762d72",
   "metadata": {},
   "outputs": [],
   "source": [
    "# creating crosstab\n",
    "animeCross=pd.crosstab(anime2['source'], anime['type'])"
   ]
  },
  {
   "cell_type": "code",
   "execution_count": 25,
   "id": "1c61b82c",
   "metadata": {},
   "outputs": [
    {
     "data": {
      "text/html": [
       "<div>\n",
       "<style scoped>\n",
       "    .dataframe tbody tr th:only-of-type {\n",
       "        vertical-align: middle;\n",
       "    }\n",
       "\n",
       "    .dataframe tbody tr th {\n",
       "        vertical-align: top;\n",
       "    }\n",
       "\n",
       "    .dataframe thead th {\n",
       "        text-align: right;\n",
       "    }\n",
       "</style>\n",
       "<table border=\"1\" class=\"dataframe\">\n",
       "  <thead>\n",
       "    <tr style=\"text-align: right;\">\n",
       "      <th>type</th>\n",
       "      <th>Movie</th>\n",
       "      <th>Music</th>\n",
       "      <th>ONA</th>\n",
       "      <th>OVA</th>\n",
       "      <th>Special</th>\n",
       "      <th>TV</th>\n",
       "    </tr>\n",
       "    <tr>\n",
       "      <th>source</th>\n",
       "      <th></th>\n",
       "      <th></th>\n",
       "      <th></th>\n",
       "      <th></th>\n",
       "      <th></th>\n",
       "      <th></th>\n",
       "    </tr>\n",
       "  </thead>\n",
       "  <tbody>\n",
       "    <tr>\n",
       "      <th>Book</th>\n",
       "      <td>163</td>\n",
       "      <td>2</td>\n",
       "      <td>62</td>\n",
       "      <td>389</td>\n",
       "      <td>174</td>\n",
       "      <td>584</td>\n",
       "    </tr>\n",
       "    <tr>\n",
       "      <th>Game</th>\n",
       "      <td>83</td>\n",
       "      <td>9</td>\n",
       "      <td>39</td>\n",
       "      <td>57</td>\n",
       "      <td>72</td>\n",
       "      <td>210</td>\n",
       "    </tr>\n",
       "    <tr>\n",
       "      <th>Listening</th>\n",
       "      <td>2</td>\n",
       "      <td>42</td>\n",
       "      <td>0</td>\n",
       "      <td>1</td>\n",
       "      <td>1</td>\n",
       "      <td>14</td>\n",
       "    </tr>\n",
       "    <tr>\n",
       "      <th>Manga</th>\n",
       "      <td>335</td>\n",
       "      <td>12</td>\n",
       "      <td>122</td>\n",
       "      <td>615</td>\n",
       "      <td>393</td>\n",
       "      <td>1328</td>\n",
       "    </tr>\n",
       "    <tr>\n",
       "      <th>Original</th>\n",
       "      <td>298</td>\n",
       "      <td>32</td>\n",
       "      <td>163</td>\n",
       "      <td>260</td>\n",
       "      <td>266</td>\n",
       "      <td>770</td>\n",
       "    </tr>\n",
       "    <tr>\n",
       "      <th>Other</th>\n",
       "      <td>27</td>\n",
       "      <td>1</td>\n",
       "      <td>22</td>\n",
       "      <td>23</td>\n",
       "      <td>23</td>\n",
       "      <td>74</td>\n",
       "    </tr>\n",
       "  </tbody>\n",
       "</table>\n",
       "</div>"
      ],
      "text/plain": [
       "type       Movie  Music  ONA  OVA  Special    TV\n",
       "source                                          \n",
       "Book         163      2   62  389      174   584\n",
       "Game          83      9   39   57       72   210\n",
       "Listening      2     42    0    1        1    14\n",
       "Manga        335     12  122  615      393  1328\n",
       "Original     298     32  163  260      266   770\n",
       "Other         27      1   22   23       23    74"
      ]
     },
     "execution_count": 25,
     "metadata": {},
     "output_type": "execute_result"
    }
   ],
   "source": [
    "#viewing crosstab\n",
    "animeCross"
   ]
  },
  {
   "cell_type": "code",
   "execution_count": 26,
   "id": "d39c978f",
   "metadata": {},
   "outputs": [
    {
     "data": {
      "text/plain": [
       "Chi2ContingencyResult(statistic=2185.317247894395, pvalue=0.0, dof=25, expected_freq=array([[1.87101380e+02, 2.01937612e+01, 8.40719856e+01, 2.77149070e+02,\n",
       "        1.91428614e+02, 6.14055189e+02],\n",
       "       [6.40011998e+01, 6.90761848e+00, 2.87582484e+01, 9.48035393e+01,\n",
       "        6.54814037e+01, 2.10047990e+02],\n",
       "       [8.17036593e+00, 8.81823635e-01, 3.67126575e+00, 1.21025795e+01,\n",
       "        8.35932813e+00, 2.68146371e+01],\n",
       "       [3.81964607e+02, 4.12252549e+01, 1.71631674e+02, 5.65795591e+02,\n",
       "        3.90798590e+02, 1.25358428e+03],\n",
       "       [2.43613077e+02, 2.62930414e+01, 1.09464907e+02, 3.60858578e+02,\n",
       "        2.49247301e+02, 7.99523095e+02],\n",
       "       [2.31493701e+01, 2.49850030e+00, 1.04019196e+01, 3.42906419e+01,\n",
       "        2.36847630e+01, 7.59748050e+01]]))"
      ]
     },
     "execution_count": 26,
     "metadata": {},
     "output_type": "execute_result"
    }
   ],
   "source": [
    "# chi-square\n",
    "stats.chi2_contingency(animeCross)"
   ]
  },
  {
   "cell_type": "code",
   "execution_count": 27,
   "id": "f6e3de21",
   "metadata": {},
   "outputs": [],
   "source": [
    "# arrays are >5 so the source influences the type"
   ]
  },
  {
   "cell_type": "markdown",
   "id": "15d82cfb",
   "metadata": {},
   "source": [
    "# How do the variables about popularity/ranking relate to each other?"
   ]
  },
  {
   "cell_type": "code",
   "execution_count": 28,
   "id": "9b63826b",
   "metadata": {},
   "outputs": [],
   "source": [
    "# creating dataset with new variables\n",
    "animeNew=anime[['score', 'scored_by', 'rank', 'popularity', 'members', 'favorites']]"
   ]
  },
  {
   "cell_type": "code",
   "execution_count": 29,
   "id": "e33efe53",
   "metadata": {},
   "outputs": [
    {
     "data": {
      "text/html": [
       "<div>\n",
       "<style scoped>\n",
       "    .dataframe tbody tr th:only-of-type {\n",
       "        vertical-align: middle;\n",
       "    }\n",
       "\n",
       "    .dataframe tbody tr th {\n",
       "        vertical-align: top;\n",
       "    }\n",
       "\n",
       "    .dataframe thead th {\n",
       "        text-align: right;\n",
       "    }\n",
       "</style>\n",
       "<table border=\"1\" class=\"dataframe\">\n",
       "  <thead>\n",
       "    <tr style=\"text-align: right;\">\n",
       "      <th></th>\n",
       "      <th>score</th>\n",
       "      <th>scored_by</th>\n",
       "      <th>rank</th>\n",
       "      <th>popularity</th>\n",
       "      <th>members</th>\n",
       "      <th>favorites</th>\n",
       "    </tr>\n",
       "  </thead>\n",
       "  <tbody>\n",
       "    <tr>\n",
       "      <th>0</th>\n",
       "      <td>7.63</td>\n",
       "      <td>139250</td>\n",
       "      <td>1274.0</td>\n",
       "      <td>231</td>\n",
       "      <td>283882</td>\n",
       "      <td>2809</td>\n",
       "    </tr>\n",
       "    <tr>\n",
       "      <th>1</th>\n",
       "      <td>7.89</td>\n",
       "      <td>91206</td>\n",
       "      <td>727.0</td>\n",
       "      <td>366</td>\n",
       "      <td>204003</td>\n",
       "      <td>2579</td>\n",
       "    </tr>\n",
       "    <tr>\n",
       "      <th>2</th>\n",
       "      <td>7.55</td>\n",
       "      <td>37129</td>\n",
       "      <td>1508.0</td>\n",
       "      <td>1173</td>\n",
       "      <td>70127</td>\n",
       "      <td>802</td>\n",
       "    </tr>\n",
       "    <tr>\n",
       "      <th>3</th>\n",
       "      <td>8.21</td>\n",
       "      <td>36501</td>\n",
       "      <td>307.0</td>\n",
       "      <td>916</td>\n",
       "      <td>93312</td>\n",
       "      <td>3344</td>\n",
       "    </tr>\n",
       "    <tr>\n",
       "      <th>4</th>\n",
       "      <td>8.67</td>\n",
       "      <td>107767</td>\n",
       "      <td>50.0</td>\n",
       "      <td>426</td>\n",
       "      <td>182765</td>\n",
       "      <td>2082</td>\n",
       "    </tr>\n",
       "  </tbody>\n",
       "</table>\n",
       "</div>"
      ],
      "text/plain": [
       "   score  scored_by    rank  popularity  members  favorites\n",
       "0   7.63     139250  1274.0         231   283882       2809\n",
       "1   7.89      91206   727.0         366   204003       2579\n",
       "2   7.55      37129  1508.0        1173    70127        802\n",
       "3   8.21      36501   307.0         916    93312       3344\n",
       "4   8.67     107767    50.0         426   182765       2082"
      ]
     },
     "execution_count": 29,
     "metadata": {},
     "output_type": "execute_result"
    }
   ],
   "source": [
    "animeNew.head()"
   ]
  },
  {
   "cell_type": "code",
   "execution_count": 30,
   "id": "b3786e28",
   "metadata": {},
   "outputs": [
    {
     "data": {
      "text/html": [
       "<div>\n",
       "<style scoped>\n",
       "    .dataframe tbody tr th:only-of-type {\n",
       "        vertical-align: middle;\n",
       "    }\n",
       "\n",
       "    .dataframe tbody tr th {\n",
       "        vertical-align: top;\n",
       "    }\n",
       "\n",
       "    .dataframe thead th {\n",
       "        text-align: right;\n",
       "    }\n",
       "</style>\n",
       "<table border=\"1\" class=\"dataframe\">\n",
       "  <thead>\n",
       "    <tr style=\"text-align: right;\">\n",
       "      <th></th>\n",
       "      <th>score</th>\n",
       "      <th>scored_by</th>\n",
       "      <th>rank</th>\n",
       "      <th>popularity</th>\n",
       "      <th>members</th>\n",
       "      <th>favorites</th>\n",
       "    </tr>\n",
       "  </thead>\n",
       "  <tbody>\n",
       "    <tr>\n",
       "      <th>score</th>\n",
       "      <td>1.000000</td>\n",
       "      <td>0.381926</td>\n",
       "      <td>-0.898747</td>\n",
       "      <td>-0.688492</td>\n",
       "      <td>0.415626</td>\n",
       "      <td>0.256094</td>\n",
       "    </tr>\n",
       "    <tr>\n",
       "      <th>scored_by</th>\n",
       "      <td>0.381926</td>\n",
       "      <td>1.000000</td>\n",
       "      <td>-0.356686</td>\n",
       "      <td>-0.425719</td>\n",
       "      <td>0.987107</td>\n",
       "      <td>0.793949</td>\n",
       "    </tr>\n",
       "    <tr>\n",
       "      <th>rank</th>\n",
       "      <td>-0.898747</td>\n",
       "      <td>-0.356686</td>\n",
       "      <td>1.000000</td>\n",
       "      <td>0.777302</td>\n",
       "      <td>-0.391524</td>\n",
       "      <td>-0.208503</td>\n",
       "    </tr>\n",
       "    <tr>\n",
       "      <th>popularity</th>\n",
       "      <td>-0.688492</td>\n",
       "      <td>-0.425719</td>\n",
       "      <td>0.777302</td>\n",
       "      <td>1.000000</td>\n",
       "      <td>-0.474798</td>\n",
       "      <td>-0.210745</td>\n",
       "    </tr>\n",
       "    <tr>\n",
       "      <th>members</th>\n",
       "      <td>0.415626</td>\n",
       "      <td>0.987107</td>\n",
       "      <td>-0.391524</td>\n",
       "      <td>-0.474798</td>\n",
       "      <td>1.000000</td>\n",
       "      <td>0.781565</td>\n",
       "    </tr>\n",
       "    <tr>\n",
       "      <th>favorites</th>\n",
       "      <td>0.256094</td>\n",
       "      <td>0.793949</td>\n",
       "      <td>-0.208503</td>\n",
       "      <td>-0.210745</td>\n",
       "      <td>0.781565</td>\n",
       "      <td>1.000000</td>\n",
       "    </tr>\n",
       "  </tbody>\n",
       "</table>\n",
       "</div>"
      ],
      "text/plain": [
       "               score  scored_by      rank  popularity   members  favorites\n",
       "score       1.000000   0.381926 -0.898747   -0.688492  0.415626   0.256094\n",
       "scored_by   0.381926   1.000000 -0.356686   -0.425719  0.987107   0.793949\n",
       "rank       -0.898747  -0.356686  1.000000    0.777302 -0.391524  -0.208503\n",
       "popularity -0.688492  -0.425719  0.777302    1.000000 -0.474798  -0.210745\n",
       "members     0.415626   0.987107 -0.391524   -0.474798  1.000000   0.781565\n",
       "favorites   0.256094   0.793949 -0.208503   -0.210745  0.781565   1.000000"
      ]
     },
     "execution_count": 30,
     "metadata": {},
     "output_type": "execute_result"
    }
   ],
   "source": [
    "# pearson correlation with new dataset\n",
    "animeNew.corr(method='pearson')"
   ]
  },
  {
   "cell_type": "code",
   "execution_count": 31,
   "id": "72d83eb4",
   "metadata": {},
   "outputs": [
    {
     "data": {
      "text/html": [
       "<style type=\"text/css\">\n",
       "#T_053d3_row0_col0, #T_053d3_row1_col1, #T_053d3_row2_col2, #T_053d3_row3_col3, #T_053d3_row4_col4, #T_053d3_row5_col5 {\n",
       "  background-color: #b40426;\n",
       "  color: #f1f1f1;\n",
       "}\n",
       "#T_053d3_row0_col1 {\n",
       "  background-color: #f7b599;\n",
       "  color: #000000;\n",
       "}\n",
       "#T_053d3_row0_col2, #T_053d3_row1_col3, #T_053d3_row2_col0, #T_053d3_row3_col0, #T_053d3_row4_col3, #T_053d3_row5_col2, #T_053d3_row5_col3 {\n",
       "  background-color: #3b4cc0;\n",
       "  color: #f1f1f1;\n",
       "}\n",
       "#T_053d3_row0_col3 {\n",
       "  background-color: #5d7ce6;\n",
       "  color: #f1f1f1;\n",
       "}\n",
       "#T_053d3_row0_col4 {\n",
       "  background-color: #f7af91;\n",
       "  color: #000000;\n",
       "}\n",
       "#T_053d3_row0_col5 {\n",
       "  background-color: #f2c9b4;\n",
       "  color: #000000;\n",
       "}\n",
       "#T_053d3_row1_col0 {\n",
       "  background-color: #edd2c3;\n",
       "  color: #000000;\n",
       "}\n",
       "#T_053d3_row1_col2 {\n",
       "  background-color: #4961d2;\n",
       "  color: #f1f1f1;\n",
       "}\n",
       "#T_053d3_row1_col4, #T_053d3_row4_col1 {\n",
       "  background-color: #b70d28;\n",
       "  color: #f1f1f1;\n",
       "}\n",
       "#T_053d3_row1_col5 {\n",
       "  background-color: #e26952;\n",
       "  color: #f1f1f1;\n",
       "}\n",
       "#T_053d3_row2_col1 {\n",
       "  background-color: #9abbff;\n",
       "  color: #000000;\n",
       "}\n",
       "#T_053d3_row2_col3 {\n",
       "  background-color: #dc5d4a;\n",
       "  color: #f1f1f1;\n",
       "}\n",
       "#T_053d3_row2_col4 {\n",
       "  background-color: #93b5fe;\n",
       "  color: #000000;\n",
       "}\n",
       "#T_053d3_row2_col5 {\n",
       "  background-color: #b5cdfa;\n",
       "  color: #000000;\n",
       "}\n",
       "#T_053d3_row3_col1 {\n",
       "  background-color: #6b8df0;\n",
       "  color: #f1f1f1;\n",
       "}\n",
       "#T_053d3_row3_col2 {\n",
       "  background-color: #df634e;\n",
       "  color: #f1f1f1;\n",
       "}\n",
       "#T_053d3_row3_col4 {\n",
       "  background-color: #6282ea;\n",
       "  color: #f1f1f1;\n",
       "}\n",
       "#T_053d3_row3_col5 {\n",
       "  background-color: #98b9ff;\n",
       "  color: #000000;\n",
       "}\n",
       "#T_053d3_row4_col0 {\n",
       "  background-color: #f2cab5;\n",
       "  color: #000000;\n",
       "}\n",
       "#T_053d3_row4_col2 {\n",
       "  background-color: #4b64d5;\n",
       "  color: #f1f1f1;\n",
       "}\n",
       "#T_053d3_row4_col5 {\n",
       "  background-color: #e36b54;\n",
       "  color: #f1f1f1;\n",
       "}\n",
       "#T_053d3_row5_col0 {\n",
       "  background-color: #bbd1f8;\n",
       "  color: #000000;\n",
       "}\n",
       "#T_053d3_row5_col1 {\n",
       "  background-color: #e8765c;\n",
       "  color: #f1f1f1;\n",
       "}\n",
       "#T_053d3_row5_col4 {\n",
       "  background-color: #ea7b60;\n",
       "  color: #f1f1f1;\n",
       "}\n",
       "</style>\n",
       "<table id=\"T_053d3\">\n",
       "  <thead>\n",
       "    <tr>\n",
       "      <th class=\"blank level0\" >&nbsp;</th>\n",
       "      <th id=\"T_053d3_level0_col0\" class=\"col_heading level0 col0\" >score</th>\n",
       "      <th id=\"T_053d3_level0_col1\" class=\"col_heading level0 col1\" >scored_by</th>\n",
       "      <th id=\"T_053d3_level0_col2\" class=\"col_heading level0 col2\" >rank</th>\n",
       "      <th id=\"T_053d3_level0_col3\" class=\"col_heading level0 col3\" >popularity</th>\n",
       "      <th id=\"T_053d3_level0_col4\" class=\"col_heading level0 col4\" >members</th>\n",
       "      <th id=\"T_053d3_level0_col5\" class=\"col_heading level0 col5\" >favorites</th>\n",
       "    </tr>\n",
       "  </thead>\n",
       "  <tbody>\n",
       "    <tr>\n",
       "      <th id=\"T_053d3_level0_row0\" class=\"row_heading level0 row0\" >score</th>\n",
       "      <td id=\"T_053d3_row0_col0\" class=\"data row0 col0\" >1.0</td>\n",
       "      <td id=\"T_053d3_row0_col1\" class=\"data row0 col1\" >0.38</td>\n",
       "      <td id=\"T_053d3_row0_col2\" class=\"data row0 col2\" >-0.9</td>\n",
       "      <td id=\"T_053d3_row0_col3\" class=\"data row0 col3\" >-0.69</td>\n",
       "      <td id=\"T_053d3_row0_col4\" class=\"data row0 col4\" >0.42</td>\n",
       "      <td id=\"T_053d3_row0_col5\" class=\"data row0 col5\" >0.26</td>\n",
       "    </tr>\n",
       "    <tr>\n",
       "      <th id=\"T_053d3_level0_row1\" class=\"row_heading level0 row1\" >scored_by</th>\n",
       "      <td id=\"T_053d3_row1_col0\" class=\"data row1 col0\" >0.38</td>\n",
       "      <td id=\"T_053d3_row1_col1\" class=\"data row1 col1\" >1.0</td>\n",
       "      <td id=\"T_053d3_row1_col2\" class=\"data row1 col2\" >-0.36</td>\n",
       "      <td id=\"T_053d3_row1_col3\" class=\"data row1 col3\" >-0.43</td>\n",
       "      <td id=\"T_053d3_row1_col4\" class=\"data row1 col4\" >0.99</td>\n",
       "      <td id=\"T_053d3_row1_col5\" class=\"data row1 col5\" >0.79</td>\n",
       "    </tr>\n",
       "    <tr>\n",
       "      <th id=\"T_053d3_level0_row2\" class=\"row_heading level0 row2\" >rank</th>\n",
       "      <td id=\"T_053d3_row2_col0\" class=\"data row2 col0\" >-0.9</td>\n",
       "      <td id=\"T_053d3_row2_col1\" class=\"data row2 col1\" >-0.36</td>\n",
       "      <td id=\"T_053d3_row2_col2\" class=\"data row2 col2\" >1.0</td>\n",
       "      <td id=\"T_053d3_row2_col3\" class=\"data row2 col3\" >0.78</td>\n",
       "      <td id=\"T_053d3_row2_col4\" class=\"data row2 col4\" >-0.39</td>\n",
       "      <td id=\"T_053d3_row2_col5\" class=\"data row2 col5\" >-0.21</td>\n",
       "    </tr>\n",
       "    <tr>\n",
       "      <th id=\"T_053d3_level0_row3\" class=\"row_heading level0 row3\" >popularity</th>\n",
       "      <td id=\"T_053d3_row3_col0\" class=\"data row3 col0\" >-0.69</td>\n",
       "      <td id=\"T_053d3_row3_col1\" class=\"data row3 col1\" >-0.43</td>\n",
       "      <td id=\"T_053d3_row3_col2\" class=\"data row3 col2\" >0.78</td>\n",
       "      <td id=\"T_053d3_row3_col3\" class=\"data row3 col3\" >1.0</td>\n",
       "      <td id=\"T_053d3_row3_col4\" class=\"data row3 col4\" >-0.47</td>\n",
       "      <td id=\"T_053d3_row3_col5\" class=\"data row3 col5\" >-0.21</td>\n",
       "    </tr>\n",
       "    <tr>\n",
       "      <th id=\"T_053d3_level0_row4\" class=\"row_heading level0 row4\" >members</th>\n",
       "      <td id=\"T_053d3_row4_col0\" class=\"data row4 col0\" >0.42</td>\n",
       "      <td id=\"T_053d3_row4_col1\" class=\"data row4 col1\" >0.99</td>\n",
       "      <td id=\"T_053d3_row4_col2\" class=\"data row4 col2\" >-0.39</td>\n",
       "      <td id=\"T_053d3_row4_col3\" class=\"data row4 col3\" >-0.47</td>\n",
       "      <td id=\"T_053d3_row4_col4\" class=\"data row4 col4\" >1.0</td>\n",
       "      <td id=\"T_053d3_row4_col5\" class=\"data row4 col5\" >0.78</td>\n",
       "    </tr>\n",
       "    <tr>\n",
       "      <th id=\"T_053d3_level0_row5\" class=\"row_heading level0 row5\" >favorites</th>\n",
       "      <td id=\"T_053d3_row5_col0\" class=\"data row5 col0\" >0.26</td>\n",
       "      <td id=\"T_053d3_row5_col1\" class=\"data row5 col1\" >0.79</td>\n",
       "      <td id=\"T_053d3_row5_col2\" class=\"data row5 col2\" >-0.21</td>\n",
       "      <td id=\"T_053d3_row5_col3\" class=\"data row5 col3\" >-0.21</td>\n",
       "      <td id=\"T_053d3_row5_col4\" class=\"data row5 col4\" >0.78</td>\n",
       "      <td id=\"T_053d3_row5_col5\" class=\"data row5 col5\" >1.0</td>\n",
       "    </tr>\n",
       "  </tbody>\n",
       "</table>\n"
      ],
      "text/plain": [
       "<pandas.io.formats.style.Styler at 0x13e68c670>"
      ]
     },
     "execution_count": 31,
     "metadata": {},
     "output_type": "execute_result"
    }
   ],
   "source": [
    "# adding color\n",
    "animeNew.corr(method='pearson').style.format(\"{:.2}\").background_gradient(cmap=plt.get_cmap('coolwarm'), axis=1)"
   ]
  },
  {
   "cell_type": "code",
   "execution_count": 32,
   "id": "a0d03c13",
   "metadata": {},
   "outputs": [],
   "source": [
    "# surprisingly, favorites and members do not correlate\n",
    "# popularity and score correlate positively\n",
    "# as expected, members and popularity correlate well"
   ]
  },
  {
   "cell_type": "code",
   "execution_count": null,
   "id": "37418683",
   "metadata": {},
   "outputs": [],
   "source": []
  }
 ],
 "metadata": {
  "kernelspec": {
   "display_name": "Python 3 (ipykernel)",
   "language": "python",
   "name": "python3"
  },
  "language_info": {
   "codemirror_mode": {
    "name": "ipython",
    "version": 3
   },
   "file_extension": ".py",
   "mimetype": "text/x-python",
   "name": "python",
   "nbconvert_exporter": "python",
   "pygments_lexer": "ipython3",
   "version": "3.10.6"
  }
 },
 "nbformat": 4,
 "nbformat_minor": 5
}
