{
 "cells": [
  {
   "cell_type": "markdown",
   "id": "3b6d6976",
   "metadata": {},
   "source": [
    "# importing packages"
   ]
  },
  {
   "cell_type": "code",
   "execution_count": 1,
   "id": "9f1a87d8",
   "metadata": {},
   "outputs": [],
   "source": [
    "import pandas as pd\n",
    "from scipy.stats import norm\n",
    "from scipy import stats"
   ]
  },
  {
   "cell_type": "markdown",
   "id": "e4e809b8",
   "metadata": {},
   "source": [
    "# importing dataset"
   ]
  },
  {
   "cell_type": "code",
   "execution_count": 2,
   "id": "b250ce01",
   "metadata": {},
   "outputs": [],
   "source": [
    "hybrid2k13=pd.read_excel('/Users/hlind/Downloads/hybrid2013.xlsx')"
   ]
  },
  {
   "cell_type": "markdown",
   "id": "8d182a29",
   "metadata": {},
   "source": [
    "# determining whether 40mpg is unusual for a hybrid"
   ]
  },
  {
   "cell_type": "code",
   "execution_count": 3,
   "id": "a6ed2f1c",
   "metadata": {},
   "outputs": [
    {
     "data": {
      "text/html": [
       "<div>\n",
       "<style scoped>\n",
       "    .dataframe tbody tr th:only-of-type {\n",
       "        vertical-align: middle;\n",
       "    }\n",
       "\n",
       "    .dataframe tbody tr th {\n",
       "        vertical-align: top;\n",
       "    }\n",
       "\n",
       "    .dataframe thead th {\n",
       "        text-align: right;\n",
       "    }\n",
       "</style>\n",
       "<table border=\"1\" class=\"dataframe\">\n",
       "  <thead>\n",
       "    <tr style=\"text-align: right;\">\n",
       "      <th></th>\n",
       "      <th>carid</th>\n",
       "      <th>vehicle</th>\n",
       "      <th>year</th>\n",
       "      <th>msrp</th>\n",
       "      <th>accelrate</th>\n",
       "      <th>mpg</th>\n",
       "      <th>mpgmpge</th>\n",
       "      <th>carclass</th>\n",
       "      <th>carclass_id</th>\n",
       "    </tr>\n",
       "  </thead>\n",
       "  <tbody>\n",
       "    <tr>\n",
       "      <th>0</th>\n",
       "      <td>111</td>\n",
       "      <td>Prius C</td>\n",
       "      <td>2013</td>\n",
       "      <td>19080</td>\n",
       "      <td>8.70</td>\n",
       "      <td>50</td>\n",
       "      <td>50</td>\n",
       "      <td>C</td>\n",
       "      <td>1</td>\n",
       "    </tr>\n",
       "    <tr>\n",
       "      <th>1</th>\n",
       "      <td>112</td>\n",
       "      <td>Jetta</td>\n",
       "      <td>2013</td>\n",
       "      <td>24995</td>\n",
       "      <td>12.66</td>\n",
       "      <td>45</td>\n",
       "      <td>45</td>\n",
       "      <td>C</td>\n",
       "      <td>1</td>\n",
       "    </tr>\n",
       "    <tr>\n",
       "      <th>2</th>\n",
       "      <td>113</td>\n",
       "      <td>Civic</td>\n",
       "      <td>2013</td>\n",
       "      <td>24360</td>\n",
       "      <td>10.20</td>\n",
       "      <td>44</td>\n",
       "      <td>44</td>\n",
       "      <td>C</td>\n",
       "      <td>1</td>\n",
       "    </tr>\n",
       "    <tr>\n",
       "      <th>3</th>\n",
       "      <td>114</td>\n",
       "      <td>Prius</td>\n",
       "      <td>2013</td>\n",
       "      <td>24200</td>\n",
       "      <td>10.20</td>\n",
       "      <td>50</td>\n",
       "      <td>50</td>\n",
       "      <td>M</td>\n",
       "      <td>3</td>\n",
       "    </tr>\n",
       "    <tr>\n",
       "      <th>4</th>\n",
       "      <td>115</td>\n",
       "      <td>Fusion FWD</td>\n",
       "      <td>2013</td>\n",
       "      <td>27200</td>\n",
       "      <td>11.72</td>\n",
       "      <td>47</td>\n",
       "      <td>47</td>\n",
       "      <td>M</td>\n",
       "      <td>3</td>\n",
       "    </tr>\n",
       "  </tbody>\n",
       "</table>\n",
       "</div>"
      ],
      "text/plain": [
       "   carid     vehicle  year   msrp  accelrate  mpg  mpgmpge carclass  \\\n",
       "0    111     Prius C  2013  19080       8.70   50       50        C   \n",
       "1    112       Jetta  2013  24995      12.66   45       45        C   \n",
       "2    113       Civic  2013  24360      10.20   44       44        C   \n",
       "3    114       Prius  2013  24200      10.20   50       50        M   \n",
       "4    115  Fusion FWD  2013  27200      11.72   47       47        M   \n",
       "\n",
       "   carclass_id  \n",
       "0            1  \n",
       "1            1  \n",
       "2            1  \n",
       "3            3  \n",
       "4            3  "
      ]
     },
     "execution_count": 3,
     "metadata": {},
     "output_type": "execute_result"
    }
   ],
   "source": [
    "hybrid2k13.head()"
   ]
  },
  {
   "cell_type": "code",
   "execution_count": 4,
   "id": "273c899e",
   "metadata": {},
   "outputs": [
    {
     "data": {
      "text/plain": [
       "<AxesSubplot: >"
      ]
     },
     "execution_count": 4,
     "metadata": {},
     "output_type": "execute_result"
    },
    {
     "data": {
      "image/png": "[encoded data removed]",
      "text/plain": [
       "<Figure size 640x480 with 1 Axes>"
      ]
     },
     "metadata": {},
     "output_type": "display_data"
    }
   ],
   "source": [
    "# creating histogram\n",
    "hybrid2k13['mpg'].hist()"
   ]
  },
  {
   "cell_type": "code",
   "execution_count": 5,
   "id": "27801a95",
   "metadata": {},
   "outputs": [
    {
     "data": {
      "text/plain": [
       "TtestResult(statistic=-4.427320491687408, pvalue=6.67005084670698e-05, df=42)"
      ]
     },
     "execution_count": 5,
     "metadata": {},
     "output_type": "execute_result"
    }
   ],
   "source": [
    "#running ttest\n",
    "stats.ttest_1samp(hybrid2k13['mpg'], 40)"
   ]
  },
  {
   "cell_type": "code",
   "execution_count": 6,
   "id": "0f957a87",
   "metadata": {},
   "outputs": [
    {
     "data": {
      "text/plain": [
       "33.48837209302326"
      ]
     },
     "execution_count": 6,
     "metadata": {},
     "output_type": "execute_result"
    }
   ],
   "source": [
    "#checking the mean\n",
    "hybrid2k13.mpg.mean()"
   ]
  },
  {
   "cell_type": "code",
   "execution_count": null,
   "id": "6a1f48f6",
   "metadata": {},
   "outputs": [],
   "source": []
  }
 ],
 "metadata": {
  "kernelspec": {
   "display_name": "Python 3 (ipykernel)",
   "language": "python",
   "name": "python3"
  },
  "language_info": {
   "codemirror_mode": {
    "name": "ipython",
    "version": 3
   },
   "file_extension": ".py",
   "mimetype": "text/x-python",
   "name": "python",
   "nbconvert_exporter": "python",
   "pygments_lexer": "ipython3",
   "version": "3.10.6"
  }
 },
 "nbformat": 4,
 "nbformat_minor": 5
}
