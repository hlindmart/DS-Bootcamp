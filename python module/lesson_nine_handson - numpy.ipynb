{
 "cells": [
  {
   "cell_type": "code",
   "execution_count": 1,
   "id": "f50dfa42",
   "metadata": {},
   "outputs": [],
   "source": [
    "import numpy as np"
   ]
  },
  {
   "cell_type": "markdown",
   "id": "135459de",
   "metadata": {},
   "source": [
    "create a five element array using your fave nums"
   ]
  },
  {
   "cell_type": "code",
   "execution_count": 2,
   "id": "9444341b",
   "metadata": {},
   "outputs": [],
   "source": [
    "myFavorites=np.array([7,8,13,21,88])"
   ]
  },
  {
   "cell_type": "markdown",
   "id": "8a89d4df",
   "metadata": {},
   "source": [
    "perform each of the five aggregate functions"
   ]
  },
  {
   "cell_type": "code",
   "execution_count": 3,
   "id": "7815b016",
   "metadata": {},
   "outputs": [
    {
     "data": {
      "text/plain": [
       "88"
      ]
     },
     "execution_count": 3,
     "metadata": {},
     "output_type": "execute_result"
    }
   ],
   "source": [
    "myFavorites.max()"
   ]
  },
  {
   "cell_type": "code",
   "execution_count": 4,
   "id": "f49ff195",
   "metadata": {},
   "outputs": [
    {
     "data": {
      "text/plain": [
       "7"
      ]
     },
     "execution_count": 4,
     "metadata": {},
     "output_type": "execute_result"
    }
   ],
   "source": [
    "myFavorites.min()"
   ]
  },
  {
   "cell_type": "code",
   "execution_count": 5,
   "id": "7d50d0dd",
   "metadata": {},
   "outputs": [
    {
     "data": {
      "text/plain": [
       "27.4"
      ]
     },
     "execution_count": 5,
     "metadata": {},
     "output_type": "execute_result"
    }
   ],
   "source": [
    "myFavorites.mean()"
   ]
  },
  {
   "cell_type": "code",
   "execution_count": 6,
   "id": "938a1ac4",
   "metadata": {},
   "outputs": [
    {
     "data": {
      "text/plain": [
       "137"
      ]
     },
     "execution_count": 6,
     "metadata": {},
     "output_type": "execute_result"
    }
   ],
   "source": [
    "myFavorites.sum()"
   ]
  },
  {
   "cell_type": "code",
   "execution_count": 7,
   "id": "cbbcf43b",
   "metadata": {},
   "outputs": [
    {
     "data": {
      "text/plain": [
       "30.70244289954791"
      ]
     },
     "execution_count": 7,
     "metadata": {},
     "output_type": "execute_result"
    }
   ],
   "source": [
    "myFavorites.std()"
   ]
  },
  {
   "cell_type": "markdown",
   "id": "f5198d86",
   "metadata": {},
   "source": [
    "create a five element array containing only ones"
   ]
  },
  {
   "cell_type": "code",
   "execution_count": 8,
   "id": "6db99f07",
   "metadata": {},
   "outputs": [],
   "source": [
    "OneArrayToRuleThemAll=np.ones(5)"
   ]
  },
  {
   "cell_type": "markdown",
   "id": "c6912338",
   "metadata": {},
   "source": [
    "add your faves array and the ones array"
   ]
  },
  {
   "cell_type": "code",
   "execution_count": 9,
   "id": "c9c83703",
   "metadata": {},
   "outputs": [
    {
     "data": {
      "text/plain": [
       "array([ 8.,  9., 14., 22., 89.])"
      ]
     },
     "execution_count": 9,
     "metadata": {},
     "output_type": "execute_result"
    }
   ],
   "source": [
    "myFavorites+OneArrayToRuleThemAll"
   ]
  },
  {
   "cell_type": "markdown",
   "id": "7a8ff044",
   "metadata": {},
   "source": [
    "multiply every element in your faves by 2"
   ]
  },
  {
   "cell_type": "code",
   "execution_count": 10,
   "id": "c3c3bf2e",
   "metadata": {},
   "outputs": [
    {
     "data": {
      "text/plain": [
       "array([ 14,  16,  26,  42, 176])"
      ]
     },
     "execution_count": 10,
     "metadata": {},
     "output_type": "execute_result"
    }
   ],
   "source": [
    "myFavorites*2"
   ]
  },
  {
   "cell_type": "markdown",
   "id": "cd58c48a",
   "metadata": {},
   "source": [
    "call the 3rd element in my faves using indexing"
   ]
  },
  {
   "cell_type": "code",
   "execution_count": 11,
   "id": "4a6dcb8e",
   "metadata": {},
   "outputs": [
    {
     "data": {
      "text/plain": [
       "13"
      ]
     },
     "execution_count": 11,
     "metadata": {},
     "output_type": "execute_result"
    }
   ],
   "source": [
    "myFavorites[2]"
   ]
  },
  {
   "cell_type": "markdown",
   "id": "a3b804e9",
   "metadata": {},
   "source": [
    "create a four element, 2by2 matrix"
   ]
  },
  {
   "cell_type": "code",
   "execution_count": 12,
   "id": "0c23e748",
   "metadata": {},
   "outputs": [],
   "source": [
    "TheMatrixHasYou=np.array([[4,3], [10,19]])"
   ]
  },
  {
   "cell_type": "markdown",
   "id": "465b00ec",
   "metadata": {},
   "source": [
    "access the upper left element in the matrix using indexing"
   ]
  },
  {
   "cell_type": "code",
   "execution_count": 13,
   "id": "fdd700de",
   "metadata": {},
   "outputs": [
    {
     "name": "stdout",
     "output_type": "stream",
     "text": [
      "[[ 4  3]\n",
      " [10 19]]\n"
     ]
    }
   ],
   "source": [
    "print(TheMatrixHasYou)"
   ]
  },
  {
   "cell_type": "code",
   "execution_count": 14,
   "id": "1ab46529",
   "metadata": {},
   "outputs": [
    {
     "data": {
      "text/plain": [
       "4"
      ]
     },
     "execution_count": 14,
     "metadata": {},
     "output_type": "execute_result"
    }
   ],
   "source": [
    "TheMatrixHasYou[0,0]"
   ]
  },
  {
   "cell_type": "markdown",
   "id": "2c1f5190",
   "metadata": {},
   "source": [
    "find the largest num in ea row of the matrix"
   ]
  },
  {
   "cell_type": "code",
   "execution_count": 15,
   "id": "7df0b5f7",
   "metadata": {},
   "outputs": [
    {
     "data": {
      "text/plain": [
       "array([ 4, 19])"
      ]
     },
     "execution_count": 15,
     "metadata": {},
     "output_type": "execute_result"
    }
   ],
   "source": [
    "TheMatrixHasYou.max(axis=1)"
   ]
  },
  {
   "cell_type": "markdown",
   "id": "90f58431",
   "metadata": {},
   "source": [
    "reshape the matrix into one row and four columns"
   ]
  },
  {
   "cell_type": "code",
   "execution_count": 16,
   "id": "46824592",
   "metadata": {},
   "outputs": [
    {
     "data": {
      "text/plain": [
       "array([[ 4,  3, 10, 19]])"
      ]
     },
     "execution_count": 16,
     "metadata": {},
     "output_type": "execute_result"
    }
   ],
   "source": [
    "TheMatrixHasYou.reshape(1,4)"
   ]
  },
  {
   "cell_type": "code",
   "execution_count": null,
   "id": "75beaf6c",
   "metadata": {},
   "outputs": [],
   "source": []
  }
 ],
 "metadata": {
  "kernelspec": {
   "display_name": "Python 3 (ipykernel)",
   "language": "python",
   "name": "python3"
  },
  "language_info": {
   "codemirror_mode": {
    "name": "ipython",
    "version": 3
   },
   "file_extension": ".py",
   "mimetype": "text/x-python",
   "name": "python",
   "nbconvert_exporter": "python",
   "pygments_lexer": "ipython3",
   "version": "3.10.6"
  }
 },
 "nbformat": 4,
 "nbformat_minor": 5
}
